{
 "cells": [
  {
   "cell_type": "code",
   "execution_count": 1,
   "metadata": {},
   "outputs": [],
   "source": [
    "import pandas as pd\n",
    "# import ssl\n",
    "# from elasticsearch.connection import create_ssl_context\n",
    "# from elasticsearch import Elasticsearch\n",
    "# import urllib3\n",
    "# from decouple import config\n",
    "# import os\n",
    "import itertools\n",
    "import sys"
   ]
  },
  {
   "cell_type": "code",
   "execution_count": 2,
   "metadata": {},
   "outputs": [],
   "source": [
    "# ssl_context = create_ssl_context()\n",
    "# ssl_context.check_hostname = False\n",
    "# ssl_context.verify_mode = ssl.CERT_NONE"
   ]
  },
  {
   "cell_type": "code",
   "execution_count": 3,
   "metadata": {},
   "outputs": [],
   "source": [
    "# ELASTIC_HOST=config('ELASTIC_HOST')\n",
    "# if ELASTIC_HOST == None:\n",
    "#     ELASTIC_HOST='http://localhost'\n",
    "# ELASTIC_PORT=config('ELASTIC_PORT')\n",
    "# if ELASTIC_PORT == None:\n",
    "#     ELASTIC_PORT=9200\n",
    "# else:\n",
    "#     ELASTIC_PORT=int(ELASTIC_PORT)\n",
    "# ELASTIC_USER=config('ELASTIC_USER')\n",
    "# if ELASTIC_USER == None:\n",
    "#     ELASTIC_USER='user'\n",
    "# ELASTIC_KEY=config('ELASTIC_KEY')\n",
    "# if ELASTIC_KEY == None:\n",
    "#     ELASTIC_KEY='123'\n"
   ]
  },
  {
   "cell_type": "code",
   "execution_count": 4,
   "metadata": {},
   "outputs": [],
   "source": [
    "\n",
    "# ELASTIC_HOST=os.getenv('ELASTIC_HOST')\n",
    "# if ELASTIC_HOST == None:\n",
    "#     ELASTIC_HOST='http://localhost'\n",
    "# ELASTIC_PORT=os.getenv('ELASTIC_PORT')\n",
    "# if ELASTIC_PORT == None:\n",
    "#     ELASTIC_PORT=9200\n",
    "# else:\n",
    "#     ELASTIC_PORT=int(ELASTIC_PORT)\n",
    "# ELASTIC_USER=os.getenv('ELASTIC_USER')\n",
    "# if ELASTIC_USER == None:\n",
    "#     ELASTIC_USER='user'\n",
    "# ELASTIC_KEY=os.environ.get('ELASTIC_KEY')\n",
    "# if ELASTIC_KEY == None:\n",
    "#     ELASTIC_KEY='123'"
   ]
  },
  {
   "cell_type": "code",
   "execution_count": 5,
   "metadata": {},
   "outputs": [],
   "source": [
    "\n",
    "# print(ELASTIC_HOST)\n",
    "# print(ELASTIC_PORT)\n",
    "# print(ELASTIC_USER)\n",
    "# print(ELASTIC_KEY)"
   ]
  },
  {
   "cell_type": "code",
   "execution_count": 6,
   "metadata": {},
   "outputs": [],
   "source": [
    "# es = Elasticsearch(hosts=[{'host': ELASTIC_HOST, 'port': ELASTIC_PORT}], scheme=\"http\",verify_certs=False, timeout=300, ssl_context=ssl_context, http_auth=(ELASTIC_USER, ELASTIC_KEY))\n",
    "# urllib3.disable_warnings(urllib3.exceptions.InsecureRequestWarning)"
   ]
  },
  {
   "cell_type": "code",
   "execution_count": 7,
   "metadata": {},
   "outputs": [],
   "source": [
    "# ######## 2020, 1 year ########\n",
    "# ######## There are no MTM data in 2018, 2019 ########\n",
    "\n",
    "# body = {\n",
    "#          \"size\" : 100,\n",
    "#          \"query\": {\n",
    "#                  \"range\":{\n",
    "#                     \"TW_COLLECT_DT\":{\n",
    "#                         \"gte\":\"2020-01-01T00:00:00.625+09:00\",\n",
    "#                         \"lte\":\"2020-12-31T00:00:00.625+09:00\" ################\n",
    "#                     }\n",
    "#                 }\n",
    "#                  },\n",
    "#     \"sort\":[{\n",
    "#         \"_id\":\"asc\"\n",
    "#     }]\n",
    "# }\n",
    "        \n",
    "# res = es.search(index = 'd-2k-r-sago-temp', body=body)\n",
    "# data = res['hits']['hits']\n",
    "# # nxt=res[\"hit\"][\"hit\"][-1][\"sort\"][0]\n",
    "# total = res['hits']['total']\n",
    "\n",
    "# # print(total)\n",
    "\n",
    "# accident = []\n",
    "# for da in data:\n",
    "#     att_type = da['_source']\n",
    "#     # att_type[\"POL_NM\"]=att_type[\"SCEN_INFOS\"][0][\"POL_NM\"]\n",
    "#     accident.append(att_type)\n",
    "\n",
    "# # df = pd.DataFrame(accident,dtype=str)\n",
    "# df_10000 = pd.DataFrame(accident)\n",
    "\n",
    "# print(df_10000.head())"
   ]
  },
  {
   "cell_type": "code",
   "execution_count": 8,
   "metadata": {},
   "outputs": [
    {
     "name": "stdout",
     "output_type": "stream",
     "text": [
      "5 10 15 20 25 30 35 40 [5, 10, 15, 20, 25, 30, 35, 40]\n"
     ]
    }
   ],
   "source": [
    "output=[]\n",
    "for i in itertools.count(5,5):\n",
    "    if i==45:\n",
    "        break\n",
    "    else:\n",
    "        print(i,end=' ')\n",
    "    output.append(i)\n",
    "print(output)"
   ]
  },
  {
   "cell_type": "code",
   "execution_count": 9,
   "metadata": {},
   "outputs": [],
   "source": [
    "# print(j)"
   ]
  },
  {
   "cell_type": "code",
   "execution_count": 10,
   "metadata": {},
   "outputs": [],
   "source": [
    "\n",
    " \n",
    "file_path = '../result/result.txt'\n",
    "sys.stdout = open(file_path, \"w\")\n",
    "print(output)"
   ]
  },
  {
   "cell_type": "code",
   "execution_count": null,
   "metadata": {},
   "outputs": [],
   "source": []
  }
 ],
 "metadata": {
  "interpreter": {
   "hash": "d1b552a4d08e4dd51c9997fdf8a589825c1a8bce289c1233a9b7636c916e0bff"
  },
  "kernelspec": {
   "display_name": "Python 3",
   "language": "python",
   "name": "python3"
  },
  "language_info": {
   "codemirror_mode": {
    "name": "ipython",
    "version": 3
   },
   "file_extension": ".py",
   "mimetype": "text/x-python",
   "name": "python",
   "nbconvert_exporter": "python",
   "pygments_lexer": "ipython3",
   "version": "3.8.8"
  }
 },
 "nbformat": 4,
 "nbformat_minor": 2
}
