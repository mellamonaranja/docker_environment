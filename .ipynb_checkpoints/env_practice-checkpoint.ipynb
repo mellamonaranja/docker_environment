{
 "cells": [
  {
   "cell_type": "code",
   "execution_count": 1,
   "metadata": {},
   "outputs": [
    {
     "ename": "ImportError",
     "evalue": "cannot import name 'config' from 'decouple' (/Users/joohyunyoon/.pyenv/versions/anaconda3-2021.05/lib/python3.8/site-packages/decouple/__init__.py)",
     "output_type": "error",
     "traceback": [
      "\u001b[0;31m---------------------------------------------------------------------------\u001b[0m",
      "\u001b[0;31mImportError\u001b[0m                               Traceback (most recent call last)",
      "\u001b[0;32m<ipython-input-1-20cea4093acf>\u001b[0m in \u001b[0;36m<module>\u001b[0;34m\u001b[0m\n\u001b[1;32m      3\u001b[0m \u001b[0;32mfrom\u001b[0m \u001b[0melasticsearch\u001b[0m \u001b[0;32mimport\u001b[0m \u001b[0mElasticsearch\u001b[0m\u001b[0;34m\u001b[0m\u001b[0;34m\u001b[0m\u001b[0m\n\u001b[1;32m      4\u001b[0m \u001b[0;32mimport\u001b[0m \u001b[0murllib3\u001b[0m\u001b[0;34m\u001b[0m\u001b[0;34m\u001b[0m\u001b[0m\n\u001b[0;32m----> 5\u001b[0;31m \u001b[0;32mfrom\u001b[0m \u001b[0mdecouple\u001b[0m \u001b[0;32mimport\u001b[0m \u001b[0mconfig\u001b[0m\u001b[0;34m\u001b[0m\u001b[0;34m\u001b[0m\u001b[0m\n\u001b[0m",
      "\u001b[0;31mImportError\u001b[0m: cannot import name 'config' from 'decouple' (/Users/joohyunyoon/.pyenv/versions/anaconda3-2021.05/lib/python3.8/site-packages/decouple/__init__.py)"
     ]
    }
   ],
   "source": [
    "import ssl\n",
    "from elasticsearch.connection import create_ssl_context\n",
    "from elasticsearch import Elasticsearch\n",
    "import urllib3\n",
    "from decouple import config"
   ]
  },
  {
   "cell_type": "code",
   "execution_count": null,
   "metadata": {},
   "outputs": [],
   "source": [
    "ssl_context = create_ssl_context()\n",
    "ssl_context.check_hostname = False\n",
    "ssl_context.verify_mode = ssl.CERT_NONE"
   ]
  },
  {
   "cell_type": "code",
   "execution_count": null,
   "metadata": {},
   "outputs": [],
   "source": [
    "es = Elasticsearch(hosts=[{'host': '223.194.92.152', 'port': 9200}], scheme=\"http\",verify_certs=False, timeout=300, ssl_context=ssl_context, http_auth=(\"elasticsearch\", \"hadoop2019@!@#$\"))\n",
    "urllib3.disable_warnings(urllib3.exceptions.InsecureRequestWarning)"
   ]
  },
  {
   "cell_type": "code",
   "execution_count": null,
   "metadata": {},
   "outputs": [],
   "source": [
    "######## 2020, 1 year ########\n",
    "######## There are no MTM data in 2018, 2019 ########\n",
    "\n",
    "body = {\n",
    "         \"size\" : 500,\n",
    "         \"query\": {\n",
    "                 \"range\":{\n",
    "                    \"TW_COLLECT_DT\":{\n",
    "                        \"gte\":\"2020-01-01T00:00:00.625+09:00\",\n",
    "                        \"lte\":\"2020-12-31T00:00:00.625+09:00\" ################\n",
    "                    }\n",
    "                }\n",
    "                 },\n",
    "    \"sort\":[{\n",
    "        \"_id\":\"asc\"\n",
    "    }]\n",
    "}\n",
    "        \n",
    "res = es.search(index = 'd-2k-r-sago-temp', body=body)\n",
    "data = res['hits']['hits']\n",
    "# nxt=res[\"hit\"][\"hit\"][-1][\"sort\"][0]\n",
    "total = res['hits']['total']\n",
    "\n",
    "# print(total)\n",
    "\n",
    "accident = []\n",
    "for da in data:\n",
    "    att_type = da['_source']\n",
    "    # att_type[\"POL_NM\"]=att_type[\"SCEN_INFOS\"][0][\"POL_NM\"]\n",
    "    accident.append(att_type)\n",
    "\n",
    "# df = pd.DataFrame(accident,dtype=str)\n",
    "df_10000 = pd.DataFrame(accident)\n",
    "\n",
    "print(df_10000.head())"
   ]
  }
 ],
 "metadata": {
  "interpreter": {
   "hash": "d1b552a4d08e4dd51c9997fdf8a589825c1a8bce289c1233a9b7636c916e0bff"
  },
  "kernelspec": {
   "display_name": "Python 3",
   "language": "python",
   "name": "python3"
  },
  "language_info": {
   "codemirror_mode": {
    "name": "ipython",
    "version": 3
   },
   "file_extension": ".py",
   "mimetype": "text/x-python",
   "name": "python",
   "nbconvert_exporter": "python",
   "pygments_lexer": "ipython3",
   "version": "3.8.8"
  }
 },
 "nbformat": 4,
 "nbformat_minor": 2
}
